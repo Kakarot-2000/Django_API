{
 "cells": [
  {
   "cell_type": "code",
   "execution_count": 40,
   "metadata": {},
   "outputs": [
    {
     "name": "stdout",
     "output_type": "stream",
     "text": [
      "<Response [200]>\n"
     ]
    }
   ],
   "source": [
    "#POST Request \n",
    "import requests \n",
    "\n",
    "# defining the api-endpoint \n",
    "API_ENDPOINT = \"http://127.0.0.1:8000/api/articles/\"\n",
    "\n",
    "# data to be sent to api \n",
    "data = {\n",
    "        'article':{\n",
    "        \"title\": \"Django28\",\n",
    "        \"description\": \"Framework used for Backend Development\",\n",
    "        \"body\": \"Random Text\",\n",
    "        \"author_id\": 1\n",
    "        }}\n",
    "# sending post request and saving response as response object \n",
    "r = requests.post(url = API_ENDPOINT, json = data) \n",
    "print(r)"
   ]
  },
  {
   "cell_type": "code",
   "execution_count": 29,
   "metadata": {},
   "outputs": [
    {
     "name": "stdout",
     "output_type": "stream",
     "text": [
      "{'articles': [{'title': 'Django', 'description': 'Framework used for Backend Development', 'body': 'Random Text', 'author_id': 1}, {'title': 'How to write an Article', 'description': 'Random Text 101', 'body': 'vrevervrevre', 'author_id': 1}, {'title': 'Django22', 'description': 'Framework used for Backend Development', 'body': 'Random Text', 'author_id': 1}, {'title': 'Django24', 'description': 'Framework used for Backend Development', 'body': 'Random Text', 'author_id': 1}, {'title': 'Django26', 'description': 'Framework used for Backend Development', 'body': 'Random Text', 'author_id': 1}]}\n"
     ]
    }
   ],
   "source": [
    "#GET Request\n",
    "# importing the requests library \n",
    "import requests \n",
    "\n",
    "# api-endpoint \n",
    "URL = \"http://127.0.0.1:8000/api/articles/\"\n",
    "# defining a params dict for the parameters to be sent to the API \n",
    "#PARAMS = {'address':location} \n",
    "\n",
    "# sending get request and saving the response as response object \n",
    "r = requests.get(url = URL) \n",
    "\n",
    "# extracting data in json format \n",
    "data = r.json() \n",
    "\n",
    "print(data)"
   ]
  },
  {
   "cell_type": "code",
   "execution_count": null,
   "metadata": {},
   "outputs": [],
   "source": []
  }
 ],
 "metadata": {
  "kernelspec": {
   "display_name": "Python 3",
   "language": "python",
   "name": "python3"
  },
  "language_info": {
   "codemirror_mode": {
    "name": "ipython",
    "version": 3
   },
   "file_extension": ".py",
   "mimetype": "text/x-python",
   "name": "python",
   "nbconvert_exporter": "python",
   "pygments_lexer": "ipython3",
   "version": "3.7.2"
  }
 },
 "nbformat": 4,
 "nbformat_minor": 2
}
